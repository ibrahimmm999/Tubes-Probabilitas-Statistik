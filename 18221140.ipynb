{
 "cells": [
  {
   "cell_type": "code",
   "execution_count": 1,
   "id": "7695f68d",
   "metadata": {},
   "outputs": [],
   "source": [
    "import pandas as pd\n",
    "import numpy as np\n",
    "import matplotlib.pyplot as plt\n",
    "import seaborn as sns\n",
    "import scipy.stats as st\n",
    "from scipy.stats import norm\n",
    "import statsmodels.api as sm\n",
    "from statsmodels.formula.api import ols"
   ]
  },
  {
   "cell_type": "code",
   "execution_count": 6,
   "id": "18b64c56",
   "metadata": {},
   "outputs": [
    {
     "name": "stdout",
     "output_type": "stream",
     "text": [
      "Requirement already satisfied: xlrd in c:\\users\\zephyrus\\anaconda3\\lib\\site-packages (2.0.1)\n",
      "Note: you may need to restart the kernel to use updated packages.\n"
     ]
    }
   ],
   "source": [
    "pip install xlrd"
   ]
  },
  {
   "cell_type": "code",
   "execution_count": 7,
   "id": "39951367",
   "metadata": {},
   "outputs": [
    {
     "name": "stdout",
     "output_type": "stream",
     "text": [
      "Requirement already satisfied: openpyxl in c:\\users\\zephyrus\\anaconda3\\lib\\site-packages (3.0.7)\n",
      "Requirement already satisfied: et-xmlfile in c:\\users\\zephyrus\\anaconda3\\lib\\site-packages (from openpyxl) (1.0.1)\n",
      "Note: you may need to restart the kernel to use updated packages.\n"
     ]
    }
   ],
   "source": [
    "pip install openpyxl"
   ]
  },
  {
   "cell_type": "code",
   "execution_count": 8,
   "id": "0d6f4bb7",
   "metadata": {},
   "outputs": [],
   "source": [
    "#pd.set_option('display.max_rows', None)\n",
    "#pd.set_option('display.max_columns', None)"
   ]
  },
  {
   "cell_type": "code",
   "execution_count": 9,
   "id": "728ee12c",
   "metadata": {},
   "outputs": [
    {
     "data": {
      "text/html": [
       "<div>\n",
       "<style scoped>\n",
       "    .dataframe tbody tr th:only-of-type {\n",
       "        vertical-align: middle;\n",
       "    }\n",
       "\n",
       "    .dataframe tbody tr th {\n",
       "        vertical-align: top;\n",
       "    }\n",
       "\n",
       "    .dataframe thead th {\n",
       "        text-align: right;\n",
       "    }\n",
       "</style>\n",
       "<table border=\"1\" class=\"dataframe\">\n",
       "  <thead>\n",
       "    <tr style=\"text-align: right;\">\n",
       "      <th></th>\n",
       "      <th>Jenis Kelamin</th>\n",
       "      <th>Usia</th>\n",
       "      <th>Pendidikan Terakhir</th>\n",
       "      <th>Pekerjaan</th>\n",
       "      <th>Penghasilan per Bulan</th>\n",
       "      <th>Domisili</th>\n",
       "      <th>Durasi Penggunaan Internet per Hari (dalam Jam)</th>\n",
       "      <th>Aktivitas Online Meningkat</th>\n",
       "      <th>Aktivitas yang Meningkat dalam 3 Bulan Terakhir</th>\n",
       "      <th>layanan_aktif_1</th>\n",
       "      <th>...</th>\n",
       "      <th>cara_pembayaran_belanja_online_5</th>\n",
       "      <th>cara_pembayaran_belanja_online_6</th>\n",
       "      <th>cara_pembayaran_belanja_online_7</th>\n",
       "      <th>cara_pembayaran_belanja_online_8</th>\n",
       "      <th>keluhan_belanja_online_1</th>\n",
       "      <th>keluhan_belanja_online_2</th>\n",
       "      <th>keluhan_belanja_online_3</th>\n",
       "      <th>keluhan_belanja_online_4</th>\n",
       "      <th>keluhan_belanja_online_5</th>\n",
       "      <th>keluhan_belanja_online_6</th>\n",
       "    </tr>\n",
       "  </thead>\n",
       "  <tbody>\n",
       "    <tr>\n",
       "      <th>0</th>\n",
       "      <td>Wanita</td>\n",
       "      <td>42.0</td>\n",
       "      <td>S2</td>\n",
       "      <td>Pengusaha</td>\n",
       "      <td>&gt; Rp 10 juta</td>\n",
       "      <td>Bandung</td>\n",
       "      <td>600%</td>\n",
       "      <td>Sama saja</td>\n",
       "      <td>NaN</td>\n",
       "      <td>Mobile Banking</td>\n",
       "      <td>...</td>\n",
       "      <td>NaN</td>\n",
       "      <td>NaN</td>\n",
       "      <td>NaN</td>\n",
       "      <td>NaN</td>\n",
       "      <td>Barang yang diperoleh tidak sesuai dengan spes...</td>\n",
       "      <td>NaN</td>\n",
       "      <td>Pembayaran sudah dilakukan; barang tidak tersedia</td>\n",
       "      <td>Jumlah barang yang diterima kurang</td>\n",
       "      <td>NaN</td>\n",
       "      <td>NaN</td>\n",
       "    </tr>\n",
       "    <tr>\n",
       "      <th>1</th>\n",
       "      <td>Pria</td>\n",
       "      <td>45.0</td>\n",
       "      <td>D3</td>\n",
       "      <td>Pegawai Negeri</td>\n",
       "      <td>&gt; Rp 10 juta</td>\n",
       "      <td>Depok</td>\n",
       "      <td>300%</td>\n",
       "      <td>Ya</td>\n",
       "      <td>Akses media sosial</td>\n",
       "      <td>Mobile Banking</td>\n",
       "      <td>...</td>\n",
       "      <td>NaN</td>\n",
       "      <td>NaN</td>\n",
       "      <td>NaN</td>\n",
       "      <td>NaN</td>\n",
       "      <td>Barang yang diperoleh tidak sesuai dengan spes...</td>\n",
       "      <td>NaN</td>\n",
       "      <td>NaN</td>\n",
       "      <td>NaN</td>\n",
       "      <td>NaN</td>\n",
       "      <td>NaN</td>\n",
       "    </tr>\n",
       "    <tr>\n",
       "      <th>2</th>\n",
       "      <td>Wanita</td>\n",
       "      <td>18.0</td>\n",
       "      <td>SMA</td>\n",
       "      <td>Pelajar / Mahasiswa</td>\n",
       "      <td>&lt; Rp 2 juta</td>\n",
       "      <td>Bandung</td>\n",
       "      <td>1500%</td>\n",
       "      <td>Sama saja</td>\n",
       "      <td>NaN</td>\n",
       "      <td>Mobile Banking</td>\n",
       "      <td>...</td>\n",
       "      <td>NaN</td>\n",
       "      <td>Kartu Kredit / Debit Online</td>\n",
       "      <td>NaN</td>\n",
       "      <td>menggunakan fitur Paylater</td>\n",
       "      <td>NaN</td>\n",
       "      <td>NaN</td>\n",
       "      <td>Pembayaran sudah dilakukan; barang tidak tersedia</td>\n",
       "      <td>NaN</td>\n",
       "      <td>Pembayaran telah dilakukan tetapi tidak terdet...</td>\n",
       "      <td>Saldo eMoney/ eWallet berkurang tanpa melakuka...</td>\n",
       "    </tr>\n",
       "    <tr>\n",
       "      <th>3</th>\n",
       "      <td>Wanita</td>\n",
       "      <td>19.0</td>\n",
       "      <td>SMA</td>\n",
       "      <td>Pelajar / Mahasiswa</td>\n",
       "      <td>Rp 2 juta – Rp 5 juta</td>\n",
       "      <td>Depok</td>\n",
       "      <td>800%</td>\n",
       "      <td>Ya</td>\n",
       "      <td>Akses media sosial</td>\n",
       "      <td>Mobile Banking</td>\n",
       "      <td>...</td>\n",
       "      <td>NaN</td>\n",
       "      <td>NaN</td>\n",
       "      <td>NaN</td>\n",
       "      <td>NaN</td>\n",
       "      <td>NaN</td>\n",
       "      <td>NaN</td>\n",
       "      <td>NaN</td>\n",
       "      <td>NaN</td>\n",
       "      <td>NaN</td>\n",
       "      <td>NaN</td>\n",
       "    </tr>\n",
       "    <tr>\n",
       "      <th>4</th>\n",
       "      <td>Wanita</td>\n",
       "      <td>19.0</td>\n",
       "      <td>SMA</td>\n",
       "      <td>Pelajar / Mahasiswa</td>\n",
       "      <td>&lt; Rp 2 juta</td>\n",
       "      <td>Jakarta</td>\n",
       "      <td>NaN</td>\n",
       "      <td>Sama saja</td>\n",
       "      <td>Mengikuti kelas online</td>\n",
       "      <td>Mobile Banking</td>\n",
       "      <td>...</td>\n",
       "      <td>NaN</td>\n",
       "      <td>NaN</td>\n",
       "      <td>NaN</td>\n",
       "      <td>NaN</td>\n",
       "      <td>NaN</td>\n",
       "      <td>NaN</td>\n",
       "      <td>NaN</td>\n",
       "      <td>NaN</td>\n",
       "      <td>NaN</td>\n",
       "      <td>NaN</td>\n",
       "    </tr>\n",
       "    <tr>\n",
       "      <th>...</th>\n",
       "      <td>...</td>\n",
       "      <td>...</td>\n",
       "      <td>...</td>\n",
       "      <td>...</td>\n",
       "      <td>...</td>\n",
       "      <td>...</td>\n",
       "      <td>...</td>\n",
       "      <td>...</td>\n",
       "      <td>...</td>\n",
       "      <td>...</td>\n",
       "      <td>...</td>\n",
       "      <td>...</td>\n",
       "      <td>...</td>\n",
       "      <td>...</td>\n",
       "      <td>...</td>\n",
       "      <td>...</td>\n",
       "      <td>...</td>\n",
       "      <td>...</td>\n",
       "      <td>...</td>\n",
       "      <td>...</td>\n",
       "      <td>...</td>\n",
       "    </tr>\n",
       "    <tr>\n",
       "      <th>295</th>\n",
       "      <td>Wanita</td>\n",
       "      <td>19.0</td>\n",
       "      <td>S1</td>\n",
       "      <td>Pelajar / Mahasiswa</td>\n",
       "      <td>&lt; Rp 2 juta</td>\n",
       "      <td>PURWOKERTO</td>\n",
       "      <td>2000%</td>\n",
       "      <td>Ya</td>\n",
       "      <td>Berbelanja online</td>\n",
       "      <td>NaN</td>\n",
       "      <td>...</td>\n",
       "      <td>NaN</td>\n",
       "      <td>NaN</td>\n",
       "      <td>NaN</td>\n",
       "      <td>NaN</td>\n",
       "      <td>NaN</td>\n",
       "      <td>Barang rusak/ salah tetapi tidak dapat dikemba...</td>\n",
       "      <td>NaN</td>\n",
       "      <td>NaN</td>\n",
       "      <td>NaN</td>\n",
       "      <td>NaN</td>\n",
       "    </tr>\n",
       "    <tr>\n",
       "      <th>296</th>\n",
       "      <td>Wanita</td>\n",
       "      <td>49.0</td>\n",
       "      <td>S1</td>\n",
       "      <td>Ibu Rumah Tangga</td>\n",
       "      <td>Rp 2 juta – Rp 5 juta</td>\n",
       "      <td>Jakarta</td>\n",
       "      <td>800%</td>\n",
       "      <td>Ya</td>\n",
       "      <td>Berbelanja online</td>\n",
       "      <td>Mobile Banking</td>\n",
       "      <td>...</td>\n",
       "      <td>NaN</td>\n",
       "      <td>NaN</td>\n",
       "      <td>NaN</td>\n",
       "      <td>NaN</td>\n",
       "      <td>Barang yang diperoleh tidak sesuai dengan spes...</td>\n",
       "      <td>NaN</td>\n",
       "      <td>NaN</td>\n",
       "      <td>NaN</td>\n",
       "      <td>NaN</td>\n",
       "      <td>NaN</td>\n",
       "    </tr>\n",
       "    <tr>\n",
       "      <th>297</th>\n",
       "      <td>Wanita</td>\n",
       "      <td>45.0</td>\n",
       "      <td>S1</td>\n",
       "      <td>Karyawan Swasta</td>\n",
       "      <td>&gt; Rp 10 juta</td>\n",
       "      <td>Jakarta</td>\n",
       "      <td>1200%</td>\n",
       "      <td>Ya</td>\n",
       "      <td>Berbelanja online</td>\n",
       "      <td>Mobile Banking</td>\n",
       "      <td>...</td>\n",
       "      <td>NaN</td>\n",
       "      <td>NaN</td>\n",
       "      <td>NaN</td>\n",
       "      <td>NaN</td>\n",
       "      <td>Barang yang diperoleh tidak sesuai dengan spes...</td>\n",
       "      <td>NaN</td>\n",
       "      <td>Pembayaran sudah dilakukan; barang tidak tersedia</td>\n",
       "      <td>NaN</td>\n",
       "      <td>NaN</td>\n",
       "      <td>NaN</td>\n",
       "    </tr>\n",
       "    <tr>\n",
       "      <th>298</th>\n",
       "      <td>Pria</td>\n",
       "      <td>36.0</td>\n",
       "      <td>S1</td>\n",
       "      <td>Karyawan Swasta</td>\n",
       "      <td>Rp 5 juta – Rp 10 juta</td>\n",
       "      <td>Bogor</td>\n",
       "      <td>500%</td>\n",
       "      <td>Ya</td>\n",
       "      <td>Akses media sosial</td>\n",
       "      <td>Mobile Banking</td>\n",
       "      <td>...</td>\n",
       "      <td>NaN</td>\n",
       "      <td>NaN</td>\n",
       "      <td>NaN</td>\n",
       "      <td>NaN</td>\n",
       "      <td>NaN</td>\n",
       "      <td>NaN</td>\n",
       "      <td>NaN</td>\n",
       "      <td>NaN</td>\n",
       "      <td>NaN</td>\n",
       "      <td>NaN</td>\n",
       "    </tr>\n",
       "    <tr>\n",
       "      <th>299</th>\n",
       "      <td>Pria</td>\n",
       "      <td>28.0</td>\n",
       "      <td>S1</td>\n",
       "      <td>Karyawan Swasta</td>\n",
       "      <td>&gt; Rp 10 juta</td>\n",
       "      <td>Jakarta</td>\n",
       "      <td>400%</td>\n",
       "      <td>Sama saja</td>\n",
       "      <td>NaN</td>\n",
       "      <td>NaN</td>\n",
       "      <td>...</td>\n",
       "      <td>NaN</td>\n",
       "      <td>Kartu Kredit / Debit Online</td>\n",
       "      <td>NaN</td>\n",
       "      <td>NaN</td>\n",
       "      <td>Barang yang diperoleh tidak sesuai dengan spes...</td>\n",
       "      <td>NaN</td>\n",
       "      <td>NaN</td>\n",
       "      <td>Jumlah barang yang diterima kurang</td>\n",
       "      <td>NaN</td>\n",
       "      <td>NaN</td>\n",
       "    </tr>\n",
       "  </tbody>\n",
       "</table>\n",
       "<p>300 rows × 150 columns</p>\n",
       "</div>"
      ],
      "text/plain": [
       "    Jenis Kelamin  Usia Pendidikan Terakhir            Pekerjaan  \\\n",
       "0          Wanita  42.0                  S2            Pengusaha   \n",
       "1            Pria  45.0                  D3       Pegawai Negeri   \n",
       "2          Wanita  18.0                 SMA  Pelajar / Mahasiswa   \n",
       "3          Wanita  19.0                 SMA  Pelajar / Mahasiswa   \n",
       "4          Wanita  19.0                 SMA  Pelajar / Mahasiswa   \n",
       "..            ...   ...                 ...                  ...   \n",
       "295        Wanita  19.0                  S1  Pelajar / Mahasiswa   \n",
       "296        Wanita  49.0                  S1     Ibu Rumah Tangga   \n",
       "297        Wanita  45.0                  S1      Karyawan Swasta   \n",
       "298          Pria  36.0                  S1      Karyawan Swasta   \n",
       "299          Pria  28.0                  S1      Karyawan Swasta   \n",
       "\n",
       "      Penghasilan per Bulan     Domisili  \\\n",
       "0              > Rp 10 juta      Bandung   \n",
       "1              > Rp 10 juta        Depok   \n",
       "2               < Rp 2 juta      Bandung   \n",
       "3     Rp 2 juta – Rp 5 juta        Depok   \n",
       "4               < Rp 2 juta      Jakarta   \n",
       "..                      ...          ...   \n",
       "295             < Rp 2 juta  PURWOKERTO    \n",
       "296   Rp 2 juta – Rp 5 juta      Jakarta   \n",
       "297            > Rp 10 juta      Jakarta   \n",
       "298  Rp 5 juta – Rp 10 juta       Bogor    \n",
       "299            > Rp 10 juta      Jakarta   \n",
       "\n",
       "    Durasi Penggunaan Internet per Hari (dalam Jam)  \\\n",
       "0                                              600%   \n",
       "1                                              300%   \n",
       "2                                             1500%   \n",
       "3                                              800%   \n",
       "4                                               NaN   \n",
       "..                                              ...   \n",
       "295                                           2000%   \n",
       "296                                            800%   \n",
       "297                                           1200%   \n",
       "298                                            500%   \n",
       "299                                            400%   \n",
       "\n",
       "    Aktivitas Online Meningkat  \\\n",
       "0                    Sama saja   \n",
       "1                           Ya   \n",
       "2                    Sama saja   \n",
       "3                           Ya   \n",
       "4                    Sama saja   \n",
       "..                         ...   \n",
       "295                         Ya   \n",
       "296                         Ya   \n",
       "297                         Ya   \n",
       "298                         Ya   \n",
       "299                  Sama saja   \n",
       "\n",
       "    Aktivitas yang Meningkat dalam 3 Bulan Terakhir layanan_aktif_1  ...  \\\n",
       "0                                               NaN  Mobile Banking  ...   \n",
       "1                                Akses media sosial  Mobile Banking  ...   \n",
       "2                                               NaN  Mobile Banking  ...   \n",
       "3                                Akses media sosial  Mobile Banking  ...   \n",
       "4                            Mengikuti kelas online  Mobile Banking  ...   \n",
       "..                                              ...             ...  ...   \n",
       "295                               Berbelanja online             NaN  ...   \n",
       "296                               Berbelanja online  Mobile Banking  ...   \n",
       "297                               Berbelanja online  Mobile Banking  ...   \n",
       "298                              Akses media sosial  Mobile Banking  ...   \n",
       "299                                             NaN             NaN  ...   \n",
       "\n",
       "    cara_pembayaran_belanja_online_5 cara_pembayaran_belanja_online_6  \\\n",
       "0                                NaN                              NaN   \n",
       "1                                NaN                              NaN   \n",
       "2                                NaN      Kartu Kredit / Debit Online   \n",
       "3                                NaN                              NaN   \n",
       "4                                NaN                              NaN   \n",
       "..                               ...                              ...   \n",
       "295                              NaN                              NaN   \n",
       "296                              NaN                              NaN   \n",
       "297                              NaN                              NaN   \n",
       "298                              NaN                              NaN   \n",
       "299                              NaN      Kartu Kredit / Debit Online   \n",
       "\n",
       "    cara_pembayaran_belanja_online_7 cara_pembayaran_belanja_online_8  \\\n",
       "0                                NaN                              NaN   \n",
       "1                                NaN                              NaN   \n",
       "2                                NaN       menggunakan fitur Paylater   \n",
       "3                                NaN                              NaN   \n",
       "4                                NaN                              NaN   \n",
       "..                               ...                              ...   \n",
       "295                              NaN                              NaN   \n",
       "296                              NaN                              NaN   \n",
       "297                              NaN                              NaN   \n",
       "298                              NaN                              NaN   \n",
       "299                              NaN                              NaN   \n",
       "\n",
       "                              keluhan_belanja_online_1  \\\n",
       "0    Barang yang diperoleh tidak sesuai dengan spes...   \n",
       "1    Barang yang diperoleh tidak sesuai dengan spes...   \n",
       "2                                                  NaN   \n",
       "3                                                  NaN   \n",
       "4                                                  NaN   \n",
       "..                                                 ...   \n",
       "295                                                NaN   \n",
       "296  Barang yang diperoleh tidak sesuai dengan spes...   \n",
       "297  Barang yang diperoleh tidak sesuai dengan spes...   \n",
       "298                                                NaN   \n",
       "299  Barang yang diperoleh tidak sesuai dengan spes...   \n",
       "\n",
       "                              keluhan_belanja_online_2  \\\n",
       "0                                                  NaN   \n",
       "1                                                  NaN   \n",
       "2                                                  NaN   \n",
       "3                                                  NaN   \n",
       "4                                                  NaN   \n",
       "..                                                 ...   \n",
       "295  Barang rusak/ salah tetapi tidak dapat dikemba...   \n",
       "296                                                NaN   \n",
       "297                                                NaN   \n",
       "298                                                NaN   \n",
       "299                                                NaN   \n",
       "\n",
       "                              keluhan_belanja_online_3  \\\n",
       "0    Pembayaran sudah dilakukan; barang tidak tersedia   \n",
       "1                                                  NaN   \n",
       "2    Pembayaran sudah dilakukan; barang tidak tersedia   \n",
       "3                                                  NaN   \n",
       "4                                                  NaN   \n",
       "..                                                 ...   \n",
       "295                                                NaN   \n",
       "296                                                NaN   \n",
       "297  Pembayaran sudah dilakukan; barang tidak tersedia   \n",
       "298                                                NaN   \n",
       "299                                                NaN   \n",
       "\n",
       "               keluhan_belanja_online_4  \\\n",
       "0    Jumlah barang yang diterima kurang   \n",
       "1                                   NaN   \n",
       "2                                   NaN   \n",
       "3                                   NaN   \n",
       "4                                   NaN   \n",
       "..                                  ...   \n",
       "295                                 NaN   \n",
       "296                                 NaN   \n",
       "297                                 NaN   \n",
       "298                                 NaN   \n",
       "299  Jumlah barang yang diterima kurang   \n",
       "\n",
       "                              keluhan_belanja_online_5  \\\n",
       "0                                                  NaN   \n",
       "1                                                  NaN   \n",
       "2    Pembayaran telah dilakukan tetapi tidak terdet...   \n",
       "3                                                  NaN   \n",
       "4                                                  NaN   \n",
       "..                                                 ...   \n",
       "295                                                NaN   \n",
       "296                                                NaN   \n",
       "297                                                NaN   \n",
       "298                                                NaN   \n",
       "299                                                NaN   \n",
       "\n",
       "                              keluhan_belanja_online_6  \n",
       "0                                                  NaN  \n",
       "1                                                  NaN  \n",
       "2    Saldo eMoney/ eWallet berkurang tanpa melakuka...  \n",
       "3                                                  NaN  \n",
       "4                                                  NaN  \n",
       "..                                                 ...  \n",
       "295                                                NaN  \n",
       "296                                                NaN  \n",
       "297                                                NaN  \n",
       "298                                                NaN  \n",
       "299                                                NaN  \n",
       "\n",
       "[300 rows x 150 columns]"
      ]
     },
     "execution_count": 9,
     "metadata": {},
     "output_type": "execute_result"
    }
   ],
   "source": [
    "data = pd.read_excel('18221140.xlsx')\n",
    "data"
   ]
  },
  {
   "cell_type": "markdown",
   "id": "407e08ea",
   "metadata": {},
   "source": [
    "# Nomor 1\n",
    "Buat bar chart / pie chart/ donut chart yang menunjukkan perbedaan frekuensi / proporsi jenis kelamin responden."
   ]
  },
  {
   "cell_type": "code",
   "execution_count": 10,
   "id": "d43f51cc",
   "metadata": {},
   "outputs": [
    {
     "data": {
      "text/plain": [
       "(300, 150)"
      ]
     },
     "execution_count": 10,
     "metadata": {},
     "output_type": "execute_result"
    }
   ],
   "source": [
    "data.shape"
   ]
  },
  {
   "cell_type": "code",
   "execution_count": 11,
   "id": "dd16687e",
   "metadata": {},
   "outputs": [
    {
     "data": {
      "text/plain": [
       "300"
      ]
     },
     "execution_count": 11,
     "metadata": {},
     "output_type": "execute_result"
    }
   ],
   "source": [
    "n = data.shape[0]\n",
    "n #menghitung n data dari banyak baris pada dataframe"
   ]
  },
  {
   "cell_type": "code",
   "execution_count": 12,
   "id": "bc6a169e",
   "metadata": {},
   "outputs": [
    {
     "data": {
      "text/plain": [
       "Pria      151\n",
       "Wanita    149\n",
       "Name: Jenis Kelamin, dtype: int64"
      ]
     },
     "execution_count": 12,
     "metadata": {},
     "output_type": "execute_result"
    }
   ],
   "source": [
    "gender = data['Jenis Kelamin'].value_counts()\n",
    "gender"
   ]
  },
  {
   "cell_type": "code",
   "execution_count": 13,
   "id": "f2442d2b",
   "metadata": {},
   "outputs": [
    {
     "data": {
      "text/plain": [
       "Text(0.5, 1.0, 'Proporsi Jenis Kelamin dengan Jumlah Responden 300')"
      ]
     },
     "execution_count": 13,
     "metadata": {},
     "output_type": "execute_result"
    },
    {
     "data": {
      "image/png": "[encoded data removed]",
      "text/plain": [
       "<Figure size 432x288 with 1 Axes>"
      ]
     },
     "metadata": {},
     "output_type": "display_data"
    }
   ],
   "source": [
    "gender_pie = data[\"Jenis Kelamin\"].value_counts().plot(kind=\"pie\")\n",
    "plt.title(\"Proporsi Jenis Kelamin dengan Jumlah Responden {}\".format(n))"
   ]
  },
  {
   "cell_type": "markdown",
   "id": "6d2622b3",
   "metadata": {},
   "source": [
    "# Nomor 2\n",
    "Buat tabel frekuensi dan proporsi untuk jenis kelamin responden!"
   ]
  },
  {
   "cell_type": "code",
   "execution_count": 14,
   "id": "b808da3e",
   "metadata": {},
   "outputs": [
    {
     "name": "stdout",
     "output_type": "stream",
     "text": [
      "Berikut merupakan tabel frekuensi dan proporsi untuk jenis kelamin responden\n",
      "  Jenis Kelamin  Frekuensi  Proporsi\n",
      "0          Pria        151  0.503333\n",
      "1        Wanita        149  0.496667\n"
     ]
    }
   ],
   "source": [
    "for x in list(data.columns)[0:1]:\n",
    "    print('Berikut merupakan tabel frekuensi dan proporsi untuk jenis kelamin responden')\n",
    "    data1 = pd.DataFrame(data[x].value_counts()).reset_index()\n",
    "    data1['Proporsi'] = data1[x]/n\n",
    "    data1.columns = [x, 'Frekuensi', 'Proporsi']\n",
    "    print(data1)"
   ]
  },
  {
   "cell_type": "markdown",
   "id": "5a523667",
   "metadata": {},
   "source": [
    "# Nomor 3\n",
    "Buat histogram untuk data umur responden!"
   ]
  },
  {
   "cell_type": "code",
   "execution_count": 15,
   "id": "e13f34f3",
   "metadata": {},
   "outputs": [],
   "source": [
    "u = data['Usia'].value_counts()"
   ]
  },
  {
   "cell_type": "code",
   "execution_count": 16,
   "id": "0f0470b3",
   "metadata": {},
   "outputs": [
    {
     "data": {
      "text/plain": [
       "48"
      ]
     },
     "execution_count": 16,
     "metadata": {},
     "output_type": "execute_result"
    }
   ],
   "source": [
    "u1 = u.count()\n",
    "u1"
   ]
  },
  {
   "cell_type": "code",
   "execution_count": 17,
   "id": "7e527e2f",
   "metadata": {},
   "outputs": [],
   "source": [
    "for x in list(data.columns)[1:2]:\n",
    "    data1 = pd.DataFrame(data[x].value_counts()).reset_index()\n",
    "    data1['Proporsi'] = data1[x]/n\n",
    "    data1.columns = ['Umur', 'Frekuensi', 'Proporsi']\n",
    "    u = pd.concat([u, data1], axis = 1)\n",
    "    u = u.reset_index(drop = True)"
   ]
  },
  {
   "cell_type": "code",
   "execution_count": 18,
   "id": "3fb4dc19",
   "metadata": {},
   "outputs": [
    {
     "data": {
      "image/png": "[encoded data removed]",
      "text/plain": [
       "<Figure size 432x288 with 1 Axes>"
      ]
     },
     "metadata": {
      "needs_background": "light"
     },
     "output_type": "display_data"
    }
   ],
   "source": [
    "plt.hist(data['Usia'], bins=u1, range=(15,80), color='blue')\n",
    "plt.xlabel('Umur Responden')\n",
    "plt.ylabel('Frekuensi')\n",
    "plt.show()"
   ]
  },
  {
   "cell_type": "markdown",
   "id": "0a1d1717",
   "metadata": {},
   "source": [
    "# Nomor 4\n",
    "Buat boxplot untuk data umur responden!"
   ]
  },
  {
   "cell_type": "code",
   "execution_count": 19,
   "id": "097bb2bb",
   "metadata": {},
   "outputs": [
    {
     "data": {
      "text/plain": [
       "(0.0, 100.0)"
      ]
     },
     "execution_count": 19,
     "metadata": {},
     "output_type": "execute_result"
    },
    {
     "data": {
      "image/png": "[encoded data removed]",
      "text/plain": [
       "<Figure size 432x288 with 1 Axes>"
      ]
     },
     "metadata": {
      "needs_background": "light"
     },
     "output_type": "display_data"
    }
   ],
   "source": [
    "sns.boxplot(x=data['Usia'])\n",
    "plt.xlim(0,100)"
   ]
  },
  {
   "cell_type": "markdown",
   "id": "feebd273",
   "metadata": {},
   "source": [
    "# Nomor 5\n",
    "Identifikasi nilai mean, Q1, Q2/median, Q3, min, max dari data umur responden! "
   ]
  },
  {
   "cell_type": "code",
   "execution_count": 20,
   "id": "b0f7dce6",
   "metadata": {},
   "outputs": [
    {
     "name": "stdout",
     "output_type": "stream",
     "text": [
      "mean : 43.49832775919732\n",
      "Q1 : 19.0\n",
      "Q2 atau median : 22.0\n",
      "Q3 : 43.5\n",
      "min : 17.0\n",
      "max : 2002.0\n"
     ]
    }
   ],
   "source": [
    "print('mean :', data['Usia'].mean())\n",
    "print('Q1 :', data['Usia'].quantile(0.25))\n",
    "print('Q2 atau median :', data['Usia'].quantile(0.5))\n",
    "print('Q3 :', data['Usia'].quantile(0.75))\n",
    "print('min :', data['Usia'].min())\n",
    "print('max :', data['Usia'].max())"
   ]
  },
  {
   "cell_type": "code",
   "execution_count": 21,
   "id": "f93be90e",
   "metadata": {},
   "outputs": [],
   "source": [
    "#untuk mengoreksi\n",
    "#data.describe()"
   ]
  },
  {
   "cell_type": "markdown",
   "id": "de4c5483",
   "metadata": {},
   "source": [
    "# Nomor 6\n",
    "Apakah terdapat outlier pada data umur responden. (Definisi outlier : < Q1 – 1.5 IQR atau > Q3 + 1.5 IQR; IQR = Q3 – Q1)"
   ]
  },
  {
   "cell_type": "code",
   "execution_count": 22,
   "id": "2c797966",
   "metadata": {},
   "outputs": [],
   "source": [
    "# Mengecek outlier dengan IQR\n",
    "Q1 = data['Usia'].quantile(0.25)\n",
    "Q3 = data['Usia'].quantile(0.75)\n",
    "IQR = Q3 - Q1"
   ]
  },
  {
   "cell_type": "code",
   "execution_count": 23,
   "id": "6704b457",
   "metadata": {},
   "outputs": [],
   "source": [
    "upper = Q3 + (1.5*IQR)\n",
    "lower = Q1 - (1.5*IQR)"
   ]
  },
  {
   "cell_type": "code",
   "execution_count": 24,
   "id": "cecd7db2",
   "metadata": {},
   "outputs": [
    {
     "name": "stdout",
     "output_type": "stream",
     "text": [
      "188    1949.0\n",
      "223    2002.0\n",
      "Name: Usia, dtype: float64\n"
     ]
    }
   ],
   "source": [
    "outliers = data.Usia[(data.Usia > upper) | (data.Usia < lower)]\n",
    "print(outliers)"
   ]
  },
  {
   "cell_type": "markdown",
   "id": "b143a0ea",
   "metadata": {},
   "source": [
    "# Nomor 7\n",
    "Buat bar chart / pie chart/ donut chart yang menunjukkan perbedaan frekuensi /proporsi profesi responden!"
   ]
  },
  {
   "cell_type": "code",
   "execution_count": 25,
   "id": "96ea101d",
   "metadata": {},
   "outputs": [],
   "source": [
    "for y in list(data.columns)[3:4]:\n",
    "    data2 = pd.DataFrame(data[y].value_counts()).reset_index()\n",
    "    data2['Proporsi'] = data2[y]/n\n",
    "    data2.columns = [y, 'Frekuensi', 'Proporsi']"
   ]
  },
  {
   "cell_type": "code",
   "execution_count": 26,
   "id": "342561b1",
   "metadata": {},
   "outputs": [
    {
     "data": {
      "image/png": "[encoded data removed]",
      "text/plain": [
       "<Figure size 432x288 with 1 Axes>"
      ]
     },
     "metadata": {},
     "output_type": "display_data"
    }
   ],
   "source": [
    "plt.pie(data2['Proporsi'], labels = list(data2[y]), autopct='%.0f%%', normalize=False)\n",
    "plt.title('Proporsi Pekerjaan, dengan jumlah responden {}'.format(n))\n",
    "plt.show()"
   ]
  },
  {
   "cell_type": "markdown",
   "id": "c05e8ec9",
   "metadata": {},
   "source": [
    "# Nomor 8\n",
    "Buat tabel frekuensi dan proporsi untuk profesi responden!"
   ]
  },
  {
   "cell_type": "code",
   "execution_count": 27,
   "id": "b561320e",
   "metadata": {},
   "outputs": [
    {
     "name": "stdout",
     "output_type": "stream",
     "text": [
      "Berikut merupakan tabel frekuensi dan proporsi untuk pekerjaan responden\n",
      "                                       Pekerjaan  Frekuensi  Proporsi\n",
      "0                            Pelajar / Mahasiswa        144  0.480000\n",
      "1                                Karyawan Swasta         81  0.270000\n",
      "2                               Ibu Rumah Tangga         22  0.073333\n",
      "3                                      Pengusaha         14  0.046667\n",
      "4                                 Pegawai Negeri         11  0.036667\n",
      "5   Profesional ( Dokter, Dosen, Pengacara, dll)          9  0.030000\n",
      "6                                     Wiraswasta          4  0.013333\n",
      "7                                   Pegawai BUMD          2  0.006667\n",
      "8                                  Pensiunan PNS          2  0.006667\n",
      "9                                 Asisten Riset           1  0.003333\n",
      "10                                  Pengangguran          1  0.003333\n",
      "11                   Honorer Pemda Pasaman Barat          1  0.003333\n",
      "12                                Pensiunan BUMN          1  0.003333\n",
      "13                                Pencari kerja           1  0.003333\n",
      "14                                    Accountant          1  0.003333\n",
      "15                               Insurance Agent          1  0.003333\n",
      "16                                  pegawai bumn          1  0.003333\n",
      "17                                    WiraSwasta          1  0.003333\n",
      "18                                      Peg BUMN          1  0.003333\n",
      "19                                     Pensiunan          1  0.003333\n"
     ]
    }
   ],
   "source": [
    "for y in list(data.columns)[3:4]:\n",
    "    print('Berikut merupakan tabel frekuensi dan proporsi untuk pekerjaan responden')\n",
    "    data2 = pd.DataFrame(data[y].value_counts()).reset_index()\n",
    "    data2['Proporsi'] = data2[y]/n\n",
    "    data2.columns = [y, 'Frekuensi', 'Proporsi']\n",
    "    print(data2)"
   ]
  },
  {
   "cell_type": "markdown",
   "id": "31bb7819",
   "metadata": {},
   "source": [
    "# Nomor 9\n",
    "Buat bar chart / pie chart/ donut chart yang menunjukkan perbedaan frekuensi / proporsi untuk apakah aktivitas online responden meningkat atau tidak dalam 3 bulan terakhir."
   ]
  },
  {
   "cell_type": "code",
   "execution_count": 28,
   "id": "95c34177",
   "metadata": {},
   "outputs": [],
   "source": [
    "for z in list(data.columns)[7:8]:\n",
    "    data3 = pd.DataFrame(data[z].value_counts()).reset_index()\n",
    "    data3['Proporsi'] = data3[z]/n\n",
    "    data3.columns = [z, 'Frekuensi', 'Proporsi']"
   ]
  },
  {
   "cell_type": "code",
   "execution_count": 29,
   "id": "402fcac6",
   "metadata": {
    "scrolled": true
   },
   "outputs": [
    {
     "data": {
      "image/png": "[encoded data removed]",
      "text/plain": [
       "<Figure size 432x288 with 1 Axes>"
      ]
     },
     "metadata": {},
     "output_type": "display_data"
    }
   ],
   "source": [
    "plt.pie(data3['Proporsi'], labels=list(data3[z]), autopct='%.0f%%', normalize=False)\n",
    "plt.title('Proporsi {} Responden {}'.format(z,n))\n",
    "plt.show()"
   ]
  },
  {
   "cell_type": "markdown",
   "id": "55a52f58",
   "metadata": {},
   "source": [
    "# Nomor 10\n",
    "Buat tabel frekuensi dan proporsi untuk apakah aktivitas online responden meningkat atau tidak dalam 3 bulan terakhir!"
   ]
  },
  {
   "cell_type": "code",
   "execution_count": 30,
   "id": "38e718d4",
   "metadata": {},
   "outputs": [
    {
     "name": "stdout",
     "output_type": "stream",
     "text": [
      "Berikut merupakan tabel yang menunjukkan naik/turun aktivitas online responden\n",
      "  Aktivitas Online Meningkat  Frekuensi  Proporsi\n",
      "0                         Ya        149  0.496667\n",
      "1                  Sama saja        121  0.403333\n",
      "2                      Tidak         30  0.100000\n"
     ]
    }
   ],
   "source": [
    "for z in list(data.columns)[7:8]:\n",
    "    print('Berikut merupakan tabel yang menunjukkan naik/turun aktivitas online responden')\n",
    "    data3 = pd.DataFrame(data[z].value_counts()).reset_index()\n",
    "    data3['Proporsi'] = data3[z]/n\n",
    "    data3.columns = [z, 'Frekuensi', 'Proporsi']\n",
    "    print(data3)"
   ]
  },
  {
   "cell_type": "markdown",
   "id": "342a9950",
   "metadata": {},
   "source": [
    "# Nomor 11\n",
    "Buat bar chart yang perbandingan frekuensi/proporsi pengguna 7 bank yang ada di\n",
    "kolom bank_1 sampai bank_7 !"
   ]
  },
  {
   "cell_type": "code",
   "execution_count": 31,
   "id": "303cdfea",
   "metadata": {},
   "outputs": [],
   "source": [
    "bank=pd.DataFrame()\n",
    "for a in list(data.columns)[15:22]:\n",
    "    data4 = pd.DataFrame(data[a].value_counts()).reset_index()\n",
    "    data4['Proporsi'] = data4[a]/n\n",
    "    data4.columns = ['Nama Bank', 'Frekuensi', 'Proporsi']\n",
    "    bank = pd.concat([bank, data4], axis = 0)\n",
    "    bank = bank.reset_index(drop = True)"
   ]
  },
  {
   "cell_type": "code",
   "execution_count": 32,
   "id": "6fd7ed18",
   "metadata": {},
   "outputs": [
    {
     "data": {
      "image/png": "[encoded data removed]",
      "text/plain": [
       "<Figure size 432x288 with 1 Axes>"
      ]
     },
     "metadata": {
      "needs_background": "light"
     },
     "output_type": "display_data"
    }
   ],
   "source": [
    "sns.barplot(data=bank, x='Proporsi', y='Nama Bank')\n",
    "plt.title('Proporsi Nama Bank, dengan jumlah responden {}'.format(n))\n",
    "plt.xticks(rotation=90)\n",
    "plt.show()"
   ]
  },
  {
   "cell_type": "markdown",
   "id": "2bd0f3d9",
   "metadata": {},
   "source": [
    "# Nomor 12\n",
    "Buat tabel frekuensi dan proporsi pengguna 7 bank yang ada di kolom bank_1 sampai bank_7."
   ]
  },
  {
   "cell_type": "code",
   "execution_count": 33,
   "id": "386a596a",
   "metadata": {},
   "outputs": [
    {
     "name": "stdout",
     "output_type": "stream",
     "text": [
      "         Nama Bank  Frekuensi  Proporsi\n",
      "0         Bank BNI         84  0.280000\n",
      "1     Bank Mandiri         87  0.290000\n",
      "2         Bank BCA        162  0.540000\n",
      "3  Bank CIMB Niaga         21  0.070000\n",
      "4         Bank BRI         50  0.166667\n",
      "5         Bank BTN          2  0.006667\n",
      "6     Bank Permata          4  0.013333\n"
     ]
    }
   ],
   "source": [
    "bank=pd.DataFrame()\n",
    "for a in list(data.columns)[15:22]:\n",
    "    data4 = pd.DataFrame(data[a].value_counts()).reset_index()\n",
    "    data4['Proporsi'] = data4[a]/n\n",
    "    data4.columns = ['Nama Bank', 'Frekuensi', 'Proporsi']\n",
    "    bank = pd.concat([bank, data4], axis = 0)\n",
    "    bank = bank.reset_index(drop = True)\n",
    "print(bank)"
   ]
  },
  {
   "cell_type": "markdown",
   "id": "94389661",
   "metadata": {},
   "source": [
    "# Nomor 13\n",
    "Hitung confidence interval 95% untuk proporsi pengguna Bank BCA!"
   ]
  },
  {
   "cell_type": "code",
   "execution_count": 71,
   "id": "c482459f",
   "metadata": {},
   "outputs": [
    {
     "name": "stdout",
     "output_type": "stream",
     "text": [
      "0.4926693547477852 < P-BCA < 0.5873306452522148\n"
     ]
    }
   ],
   "source": [
    "bank_bca = bank.at[2, 'Proporsi']\n",
    "error = norm.ppf(0.95)*(0.54*(1-0.54)/n)**(0.5)\n",
    "lower = bank_bca - error\n",
    "upper = bank_bca + error\n",
    "print('{} < P-BCA < {}'.format(lower, upper))"
   ]
  },
  {
   "cell_type": "markdown",
   "id": "d9cd0fae",
   "metadata": {},
   "source": [
    "# Nomor 14\n",
    "Lakukan uji hipotesis berikut:"
   ]
  },
  {
   "cell_type": "code",
   "execution_count": 72,
   "id": "2547f130",
   "metadata": {},
   "outputs": [
    {
     "name": "stdout",
     "output_type": "stream",
     "text": [
      "critical region = {z > 1.959963984540054 } U {z <  -1.959963984540054 }\n",
      "z =  1.385640646055103\n",
      "Kesimpulan : H0 gagal ditolak.\n"
     ]
    }
   ],
   "source": [
    "P0_BCA = 0.5\n",
    "Z_alpha = norm.ppf(1-(2.5/100))\n",
    "print('critical region = {z >', Z_alpha, '} U {z < ',-Z_alpha, '}')\n",
    "z = n * (0.54-P0_BCA) / (n * P0_BCA * (1-P0_BCA))**(0.5)\n",
    "\n",
    "print('z = ', z)\n",
    "print('Kesimpulan : H0 gagal ditolak.')"
   ]
  },
  {
   "cell_type": "markdown",
   "id": "0bced3eb",
   "metadata": {},
   "source": [
    "# Nomor 15\n",
    "Buat bar chart yang menunjukkan perbedaan frekuensi / proporsi untuk preferensi channel yang dipilih responden untuk melakukan “Transfer antar bank”!"
   ]
  },
  {
   "cell_type": "code",
   "execution_count": 73,
   "id": "3095acda",
   "metadata": {},
   "outputs": [],
   "source": [
    "transfer = pd.DataFrame()\n",
    "for x in list(data.columns)[30:31]:\n",
    "    data5 = pd.DataFrame(data[x].value_counts()).reset_index()\n",
    "    data5['Proporsi'] = data5[x]/n\n",
    "    data5.columns = ['Transfer Antar Bank', 'Frekuensi', 'Proporsi']\n",
    "    transfer = pd.concat([transfer, data5], axis=0)\n",
    "    transfer = transfer.reset_index(drop=True)"
   ]
  },
  {
   "cell_type": "code",
   "execution_count": 74,
   "id": "25ac5036",
   "metadata": {},
   "outputs": [
    {
     "data": {
      "image/png": "[encoded data removed]",
      "text/plain": [
       "<Figure size 432x288 with 1 Axes>"
      ]
     },
     "metadata": {
      "needs_background": "light"
     },
     "output_type": "display_data"
    }
   ],
   "source": [
    "sns.barplot(data=transfer, x='Proporsi', y='Transfer Antar Bank')\n",
    "plt.title('Proporsi Transfer Antar Bank Responden {}'.format(n))\n",
    "plt.xticks(rotation=90)\n",
    "plt.show()"
   ]
  },
  {
   "cell_type": "markdown",
   "id": "4fd0d498",
   "metadata": {},
   "source": [
    "# Nomor 16\n",
    "Buat tabel frekuensi dan proporsi untuk preferensi channel yang dipilih responden untuk melakukan “Transfer antar bank”!"
   ]
  },
  {
   "cell_type": "code",
   "execution_count": 75,
   "id": "c4c9ead8",
   "metadata": {},
   "outputs": [
    {
     "name": "stdout",
     "output_type": "stream",
     "text": [
      "  Transfer Antar Bank  Frekuensi  Proporsi\n",
      "0      Mobile Banking        205  0.683333\n",
      "1    Internet Banking         26  0.086667\n",
      "2                 ATM         22  0.073333\n",
      "3         SMS Banking          1  0.003333\n"
     ]
    }
   ],
   "source": [
    "transfer = pd.DataFrame()\n",
    "for x in list(data.columns)[30:31]:\n",
    "    data5 = pd.DataFrame(data[x].value_counts()).reset_index()\n",
    "    data5['Proporsi'] = data5[x]/n\n",
    "    data5.columns = ['Transfer Antar Bank', 'Frekuensi', 'Proporsi']\n",
    "    transfer = pd.concat([transfer, data5], axis=0)\n",
    "    transfer = transfer.reset_index(drop=True)\n",
    "print(transfer)"
   ]
  },
  {
   "cell_type": "markdown",
   "id": "21def6d1",
   "metadata": {},
   "source": [
    "# Nomor 17\n",
    "Buat bar chart yang perbandingan frekuensi/proporsi pengguna 7 emoney yang ada di kolom emoney_pilihan_1 sampai emoney_pilihan_7 (8 – 11 tidak usah)"
   ]
  },
  {
   "cell_type": "code",
   "execution_count": 76,
   "id": "c8a806e0",
   "metadata": {},
   "outputs": [],
   "source": [
    "emoney = pd.DataFrame()\n",
    "for x in list(data.columns)[37:44]:\n",
    "    data6 = pd.DataFrame(data[x].value_counts()).reset_index()\n",
    "    data6['Proporsi'] = data6[x]/n\n",
    "    data6.columns = ['E-money', 'Frekuensi', 'Proporsi']\n",
    "    emoney = pd.concat([emoney, data6], axis=0)\n",
    "    emoney = emoney.reset_index(drop=True)"
   ]
  },
  {
   "cell_type": "code",
   "execution_count": 77,
   "id": "d8042082",
   "metadata": {},
   "outputs": [
    {
     "data": {
      "image/png": "[encoded data removed]",
      "text/plain": [
       "<Figure size 432x288 with 1 Axes>"
      ]
     },
     "metadata": {
      "needs_background": "light"
     },
     "output_type": "display_data"
    }
   ],
   "source": [
    "sns.barplot(data=emoney, x='Proporsi', y='E-money')\n",
    "plt.title('Proporsi E-money, dengan jumlah responden {}'.format(n))\n",
    "plt.xticks(rotation=90)\n",
    "plt.show()"
   ]
  },
  {
   "cell_type": "markdown",
   "id": "7aef1f57",
   "metadata": {},
   "source": [
    "# Nomor 18\n",
    "Buat tabel frekuensi dan proporsi pengguna 7 emoney yang ada di kolom emoney_pilihan_1 sampai emoney_pilihan_7 (8 – 11 tidak usah)!"
   ]
  },
  {
   "cell_type": "code",
   "execution_count": 78,
   "id": "e5129aaf",
   "metadata": {},
   "outputs": [
    {
     "name": "stdout",
     "output_type": "stream",
     "text": [
      "          E-money  Frekuensi  Proporsi\n",
      "0           GoPay        225  0.750000\n",
      "1       ShopeePay        167  0.556667\n",
      "2             OVO        170  0.566667\n",
      "3            Dana        102  0.340000\n",
      "4  eMoney Mandiri         97  0.323333\n",
      "5       Flazz BCA         83  0.276667\n",
      "6         LinkAja         47  0.156667\n"
     ]
    }
   ],
   "source": [
    "emoney = pd.DataFrame()\n",
    "for x in list(data.columns)[37:44]:\n",
    "    data6 = pd.DataFrame(data[x].value_counts()).reset_index()\n",
    "    data6['Proporsi'] = data6[x]/n\n",
    "    data6.columns = ['E-money', 'Frekuensi', 'Proporsi']\n",
    "    emoney = pd.concat([emoney, data6], axis=0)\n",
    "    emoney = emoney.reset_index(drop=True)\n",
    "print(emoney)"
   ]
  },
  {
   "cell_type": "markdown",
   "id": "d8e29a59",
   "metadata": {},
   "source": [
    "# Nomor 19\n",
    "Hitung confidence interval 95% untuk selisih proporsi pengguna Gopay dan OVO!"
   ]
  },
  {
   "cell_type": "code",
   "execution_count": 79,
   "id": "6196148c",
   "metadata": {},
   "outputs": [
    {
     "name": "stdout",
     "output_type": "stream",
     "text": [
      "0.15770666424703828  < P gopay - P ovo <  0.20895933575296166\n"
     ]
    }
   ],
   "source": [
    "Z_alpha=norm.ppf(1-(2.5/10))\n",
    "P_gopay=0.750000\n",
    "P_ovo=0.566667\n",
    "gopay_ovo=P_gopay-P_ovo\n",
    "\n",
    "n_money=len(data)\n",
    "\n",
    "eror_gopay_ovo = Z_alpha * ((P_gopay*(1-P_gopay)/n_money) + (P_ovo*(1-P_ovo)/n_money))**(0.5)\n",
    "\n",
    "print(gopay_ovo - eror_gopay_ovo, ' < P gopay - P ovo < ', gopay_ovo + eror_gopay_ovo)"
   ]
  },
  {
   "cell_type": "markdown",
   "id": "aebf356f",
   "metadata": {},
   "source": [
    "# Nomor 20\n",
    "Lakukan uji hipotesis berikut:"
   ]
  },
  {
   "cell_type": "code",
   "execution_count": 80,
   "id": "678d106d",
   "metadata": {},
   "outputs": [
    {
     "name": "stdout",
     "output_type": "stream",
     "text": [
      "Critical region = { z >  1.6448536269514722 }\n",
      "z=  4.7343683741881675\n",
      "Kesimpulan: H0 berhasil ditolak.\n"
     ]
    }
   ],
   "source": [
    "Z_alpha_per2 = norm.ppf(1-(5/100))\n",
    "P_hat = (225 + 170)/(n_money*2)\n",
    "\n",
    "print('Critical region = { z > ', Z_alpha_per2, '}')\n",
    "\n",
    "z2 = gopay_ovo / (P_hat*(1-P_hat)*(2/n_money))**(0.5)\n",
    "\n",
    "print('z= ',z2)\n",
    "print('Kesimpulan: H0 berhasil ditolak.')"
   ]
  },
  {
   "cell_type": "markdown",
   "id": "2f8c95e1",
   "metadata": {},
   "source": [
    "# Nomor 21\n",
    "Buat bar chart / pie chart/ donut chart yang menunjukkan perbedaan frekuensi /\n",
    "proporsi untuk nominal yang biasa dipakai untuk top up emoney!"
   ]
  },
  {
   "cell_type": "code",
   "execution_count": 81,
   "id": "0b6cc5fc",
   "metadata": {},
   "outputs": [],
   "source": [
    "for x in list(data.columns)[70:71]:\n",
    "    data7 = pd.DataFrame(data[x].value_counts()).reset_index()\n",
    "    data7['Proporsi'] = data7[x]/n\n",
    "    data7.columns = [x, 'Frekuensi', 'Proporsi']"
   ]
  },
  {
   "cell_type": "code",
   "execution_count": 82,
   "id": "7d9ade2c",
   "metadata": {},
   "outputs": [
    {
     "data": {
      "image/png": "[encoded data removed]",
      "text/plain": [
       "<Figure size 432x288 with 1 Axes>"
      ]
     },
     "metadata": {},
     "output_type": "display_data"
    }
   ],
   "source": [
    "plt.pie(data7['Proporsi'],  labels=list(data7[x]), autopct='%.0f%%', normalize=False)\n",
    "plt.title('Proporsi nominal yang biasa dipakai untuk top up emoney, dengan responden {}'.format(n))\n",
    "plt.show()"
   ]
  },
  {
   "cell_type": "markdown",
   "id": "c6904eaf",
   "metadata": {},
   "source": [
    "# Nomor 22\n",
    "Buat tabel frekuensi dan proporsi untuk nominal yang biasa dipakai untuk top up\n",
    "emoney!"
   ]
  },
  {
   "cell_type": "code",
   "execution_count": 83,
   "id": "afb2d53e",
   "metadata": {},
   "outputs": [
    {
     "name": "stdout",
     "output_type": "stream",
     "text": [
      "  39. Berapa biasanya nominal Anda melakukan top up/ isi ulang?  Frekuensi  \\\n",
      "0                             Rp 50.001 – Rp 100.000                    78   \n",
      "1                                       > Rp 300.000                    59   \n",
      "2                            Rp 150.001 – Rp 300.000                    58   \n",
      "3                            Rp 100.001 – Rp 150.000                    51   \n",
      "4                            Rp 25.000 – Rp 50.000,-                    30   \n",
      "5                                      < Rp 25.000,-                     3   \n",
      "\n",
      "   Proporsi  \n",
      "0  0.260000  \n",
      "1  0.196667  \n",
      "2  0.193333  \n",
      "3  0.170000  \n",
      "4  0.100000  \n",
      "5  0.010000  \n"
     ]
    }
   ],
   "source": [
    "for x in list(data.columns)[70:71]:\n",
    "    data7 = pd.DataFrame(data[x].value_counts()).reset_index()\n",
    "    data7['Proporsi'] = data7[x]/n\n",
    "    data7.columns = [x, 'Frekuensi', 'Proporsi']\n",
    "print(data7)"
   ]
  },
  {
   "cell_type": "markdown",
   "id": "ae31fbf6",
   "metadata": {},
   "source": [
    "# Nomor 23\n",
    "Buat bar chart yang perbandingan frekuensi/proporsi pengguna 7 ecommerce yang ada di kolom ecommerce_pilihan_1 sampai ecommerce_pilihan_7 (8 – 12 tidak usah)"
   ]
  },
  {
   "cell_type": "code",
   "execution_count": 84,
   "id": "2ba3876a",
   "metadata": {},
   "outputs": [],
   "source": [
    "e_commerce = pd.DataFrame()\n",
    "for x in list(data.columns)[116:123]:\n",
    "    data8 = pd.DataFrame(data[x].value_counts()).reset_index()\n",
    "    data8['Proporsi'] = data8[x]/n\n",
    "    data8.columns = ['Nama E-Commerce', 'Frekuensi', 'Proporsi']\n",
    "    e_commerce = pd.concat([e_commerce, data8], axis=0)\n",
    "    e_commerce = e_commerce.reset_index(drop=True)"
   ]
  },
  {
   "cell_type": "code",
   "execution_count": 85,
   "id": "88a64fc1",
   "metadata": {},
   "outputs": [
    {
     "data": {
      "image/png": "[encoded data removed]",
      "text/plain": [
       "<Figure size 432x288 with 1 Axes>"
      ]
     },
     "metadata": {
      "needs_background": "light"
     },
     "output_type": "display_data"
    }
   ],
   "source": [
    "sns.barplot(data=e_commerce, x='Proporsi', y='Nama E-Commerce')\n",
    "plt.title('Proporsi E-Commerce, dengan jumlah responden {}'.format(n))\n",
    "plt.xticks(rotation=90)\n",
    "plt.show()"
   ]
  },
  {
   "cell_type": "markdown",
   "id": "c8a51a95",
   "metadata": {},
   "source": [
    "# Nomor 24\n",
    "Buat tabel frekuensi dan proporsi pengguna 7 ecommerce yang ada di kolom ecommerce_pilihan_1 sampai ecommerce_pilihan_7 (8 – 12 tidak usah)!"
   ]
  },
  {
   "cell_type": "code",
   "execution_count": 49,
   "id": "940b38ce",
   "metadata": {},
   "outputs": [
    {
     "name": "stdout",
     "output_type": "stream",
     "text": [
      "Tabel Frekuensi dan Proporsi pengguna E-Commerce 1-7\n",
      "  Nama E-Commerce  Frekuensi  Proporsi\n",
      "0          Shopee        228  0.760000\n",
      "1   Gojek (GoFood        211  0.703333\n",
      "2       Tokopedia        197  0.656667\n",
      "3  Grab (GrabFood        117  0.390000\n",
      "4       Traveloka         52  0.173333\n",
      "5          Lazada         22  0.073333\n",
      "6       Tiket.com         22  0.073333\n"
     ]
    }
   ],
   "source": [
    "e_commerce = pd.DataFrame()\n",
    "for x in list(data.columns)[116:123]:\n",
    "    data8 = pd.DataFrame(data[x].value_counts()).reset_index()\n",
    "    data8['Proporsi'] = data8[x]/n\n",
    "    data8.columns = ['Nama E-Commerce', 'Frekuensi', 'Proporsi']\n",
    "    e_commerce = pd.concat([e_commerce, data8], axis=0)\n",
    "    e_commerce = e_commerce.reset_index(drop=True)\n",
    "print('Tabel Frekuensi dan Proporsi pengguna E-Commerce 1-7')\n",
    "print(e_commerce)"
   ]
  },
  {
   "cell_type": "markdown",
   "id": "9f9505f4",
   "metadata": {},
   "source": [
    "# Nomor 25\n",
    "Buat bar chart / pie chart/ donut chart yang menunjukkan perbedaan frekuensi / proporsi untuk responden yang prefer beli handphone secara offline vs online!"
   ]
  },
  {
   "cell_type": "code",
   "execution_count": 50,
   "id": "944f12f5",
   "metadata": {},
   "outputs": [],
   "source": [
    "method = pd.DataFrame()\n",
    "for x in list(data.columns)[99:100]:\n",
    "    data9 = pd.DataFrame(data[x].value_counts()).reset_index()\n",
    "    data9['Proporsi'] = data9[x]/n\n",
    "    data9.columns = ['Metode Pembelian', 'Frekuensi', 'Proporsi']\n",
    "    method = pd.concat([method, data9], axis = 0)\n",
    "    method = method.reset_index(drop = True)"
   ]
  },
  {
   "cell_type": "code",
   "execution_count": 51,
   "id": "7a60bd6a",
   "metadata": {},
   "outputs": [
    {
     "data": {
      "image/png": "[encoded data removed]",
      "text/plain": [
       "<Figure size 432x288 with 1 Axes>"
      ]
     },
     "metadata": {
      "needs_background": "light"
     },
     "output_type": "display_data"
    }
   ],
   "source": [
    "sns.barplot(data = method, x = 'Proporsi', y = 'Metode Pembelian')\n",
    "plt.title('Proporsi Metode Pembelian, dengan jumlah responden {}'.format(n))\n",
    "plt.xticks(rotation=90)\n",
    "plt.show()"
   ]
  },
  {
   "cell_type": "markdown",
   "id": "ee880234",
   "metadata": {},
   "source": [
    "# Nomor 26\n",
    "Buat tabel frekuensi dan proporsi untuk responden yang prefer beli handphone secara offline vs online!"
   ]
  },
  {
   "cell_type": "code",
   "execution_count": 52,
   "id": "c1d62b21",
   "metadata": {},
   "outputs": [
    {
     "name": "stdout",
     "output_type": "stream",
     "text": [
      "Tabel Frekuensi dan Proporsi Metode Pembelian HP (online/offline)\n",
      "                         Metode Pembelian  Frekuensi  Proporsi\n",
      "0  offline/ langsung datang ke toko fisik        201  0.670000\n",
      "1                                  online         65  0.216667\n"
     ]
    }
   ],
   "source": [
    "method = pd.DataFrame()\n",
    "for x in list(data.columns)[99:100]:\n",
    "    data9 = pd.DataFrame(data[x].value_counts()).reset_index()\n",
    "    data9['Proporsi'] = data9[x]/n\n",
    "    data9.columns = ['Metode Pembelian', 'Frekuensi', 'Proporsi']\n",
    "    method = pd.concat([method, data9], axis = 0)\n",
    "    method = method.reset_index(drop = True)\n",
    "print('Tabel Frekuensi dan Proporsi Metode Pembelian HP (online/offline)')\n",
    "print(method)"
   ]
  },
  {
   "cell_type": "markdown",
   "id": "0f6df91f",
   "metadata": {},
   "source": [
    "# Nomor 27\n",
    "Buat bar chart / pie chart/ donut chart yang menunjukkan perbedaan frekuensi / proporsi untuk tempat beli makanan online yang pilihan responden!"
   ]
  },
  {
   "cell_type": "code",
   "execution_count": 87,
   "id": "25d3c602",
   "metadata": {},
   "outputs": [],
   "source": [
    "beli_makanan = pd.DataFrame()\n",
    "for x in list(data.columns)[128:129]:\n",
    "    data10 = pd.DataFrame(data[x].value_counts()).reset_index()\n",
    "    data10['Proporsi'] = data10[x]/n\n",
    "    data10.columns = ['Tempat Pembelian Makan', 'Frekuensi', 'Proporsi']\n",
    "    makan = pd.concat([makan, data10])\n",
    "    makan = makan.reset_index(drop=True)"
   ]
  },
  {
   "cell_type": "code",
   "execution_count": 88,
   "id": "e40d2db7",
   "metadata": {},
   "outputs": [
    {
     "data": {
      "image/png": "[encoded data removed]",
      "text/plain": [
       "<Figure size 432x288 with 1 Axes>"
      ]
     },
     "metadata": {
      "needs_background": "light"
     },
     "output_type": "display_data"
    }
   ],
   "source": [
    "sns.barplot(data = makan, x = 'Proporsi', y = 'Tempat Pembelian Makan')\n",
    "plt.title('Proporsi {}, dengan jumlah responden {}'.format(x,n))\n",
    "plt.xticks(rotation=90)\n",
    "plt.show()"
   ]
  },
  {
   "cell_type": "markdown",
   "id": "01a55e41",
   "metadata": {},
   "source": [
    "# Nomor 28\n",
    "Buat tabel frekuensi dan proporsi untuk tempat beli makanan online yang pilihan\n",
    "responden!"
   ]
  },
  {
   "cell_type": "code",
   "execution_count": 90,
   "id": "ca23bea0",
   "metadata": {},
   "outputs": [
    {
     "name": "stdout",
     "output_type": "stream",
     "text": [
      "Tabel Frekuensi dan Proporsi Tempat Beli Makanan Online Pilihan\n",
      "                            Tempat Pembelian Makan  Frekuensi  Proporsi\n",
      "0                                           GoFood        149  0.496667\n",
      "1                                         GrabFood         70  0.233333\n",
      "2                                       ShopeeFood         58  0.193333\n",
      "3   Tidak pernah menggunakan layanan Food Delivery         15  0.050000\n",
      "4                                   Traveloka eats          2  0.006667\n",
      "5                                     Tidak pernah          1  0.003333\n",
      "6                                       Maxim food          1  0.003333\n",
      "7                                           GoFood        149  0.496667\n",
      "8                                         GrabFood         70  0.233333\n",
      "9                                       ShopeeFood         58  0.193333\n",
      "10  Tidak pernah menggunakan layanan Food Delivery         15  0.050000\n",
      "11                                  Traveloka eats          2  0.006667\n",
      "12                                    Tidak pernah          1  0.003333\n",
      "13                                      Maxim food          1  0.003333\n",
      "14                                          GoFood        149  0.496667\n",
      "15                                        GrabFood         70  0.233333\n",
      "16                                      ShopeeFood         58  0.193333\n",
      "17  Tidak pernah menggunakan layanan Food Delivery         15  0.050000\n",
      "18                                  Traveloka eats          2  0.006667\n",
      "19                                    Tidak pernah          1  0.003333\n",
      "20                                      Maxim food          1  0.003333\n"
     ]
    }
   ],
   "source": [
    "beli_makanan = pd.DataFrame()\n",
    "for x in list(data.columns)[128:129]:\n",
    "    data10 = pd.DataFrame(data[x].value_counts()).reset_index()\n",
    "    data10['Proporsi'] = data10[x]/n\n",
    "    data10.columns = ['Tempat Pembelian Makan', 'Frekuensi', 'Proporsi']\n",
    "    makan = pd.concat([makan, data10])\n",
    "    makan = makan.reset_index(drop=True)\n",
    "print('Tabel Frekuensi dan Proporsi Tempat Beli Makanan Online Pilihan')\n",
    "print(makan)"
   ]
  },
  {
   "cell_type": "markdown",
   "id": "d579438d",
   "metadata": {},
   "source": [
    "# NO 29"
   ]
  },
  {
   "cell_type": "code",
   "execution_count": 91,
   "id": "7669c8db",
   "metadata": {},
   "outputs": [
    {
     "data": {
      "text/html": [
       "<div>\n",
       "<style scoped>\n",
       "    .dataframe tbody tr th:only-of-type {\n",
       "        vertical-align: middle;\n",
       "    }\n",
       "\n",
       "    .dataframe tbody tr th {\n",
       "        vertical-align: top;\n",
       "    }\n",
       "\n",
       "    .dataframe thead th {\n",
       "        text-align: right;\n",
       "    }\n",
       "</style>\n",
       "<table border=\"1\" class=\"dataframe\">\n",
       "  <thead>\n",
       "    <tr style=\"text-align: right;\">\n",
       "      <th></th>\n",
       "      <th>Jenis Kelamin</th>\n",
       "      <th>Usia</th>\n",
       "      <th>Pendidikan Terakhir</th>\n",
       "      <th>Pekerjaan</th>\n",
       "      <th>Penghasilan per Bulan</th>\n",
       "      <th>Domisili</th>\n",
       "      <th>Durasi Penggunaan Internet per Hari (dalam Jam)</th>\n",
       "      <th>Aktivitas Online Meningkat</th>\n",
       "      <th>Aktivitas yang Meningkat dalam 3 Bulan Terakhir</th>\n",
       "      <th>layanan_aktif_1</th>\n",
       "      <th>...</th>\n",
       "      <th>cara_pembayaran_belanja_online_5</th>\n",
       "      <th>cara_pembayaran_belanja_online_6</th>\n",
       "      <th>cara_pembayaran_belanja_online_7</th>\n",
       "      <th>cara_pembayaran_belanja_online_8</th>\n",
       "      <th>keluhan_belanja_online_1</th>\n",
       "      <th>keluhan_belanja_online_2</th>\n",
       "      <th>keluhan_belanja_online_3</th>\n",
       "      <th>keluhan_belanja_online_4</th>\n",
       "      <th>keluhan_belanja_online_5</th>\n",
       "      <th>keluhan_belanja_online_6</th>\n",
       "    </tr>\n",
       "  </thead>\n",
       "  <tbody>\n",
       "    <tr>\n",
       "      <th>0</th>\n",
       "      <td>Wanita</td>\n",
       "      <td>42.0</td>\n",
       "      <td>S2</td>\n",
       "      <td>Pengusaha</td>\n",
       "      <td>&gt; Rp 10 juta</td>\n",
       "      <td>Bandung</td>\n",
       "      <td>600%</td>\n",
       "      <td>Sama saja</td>\n",
       "      <td>NaN</td>\n",
       "      <td>Mobile Banking</td>\n",
       "      <td>...</td>\n",
       "      <td>NaN</td>\n",
       "      <td>NaN</td>\n",
       "      <td>NaN</td>\n",
       "      <td>NaN</td>\n",
       "      <td>Barang yang diperoleh tidak sesuai dengan spes...</td>\n",
       "      <td>NaN</td>\n",
       "      <td>Pembayaran sudah dilakukan; barang tidak tersedia</td>\n",
       "      <td>Jumlah barang yang diterima kurang</td>\n",
       "      <td>NaN</td>\n",
       "      <td>NaN</td>\n",
       "    </tr>\n",
       "    <tr>\n",
       "      <th>1</th>\n",
       "      <td>Pria</td>\n",
       "      <td>45.0</td>\n",
       "      <td>D3</td>\n",
       "      <td>Pegawai Negeri</td>\n",
       "      <td>&gt; Rp 10 juta</td>\n",
       "      <td>Depok</td>\n",
       "      <td>300%</td>\n",
       "      <td>Ya</td>\n",
       "      <td>Akses media sosial</td>\n",
       "      <td>Mobile Banking</td>\n",
       "      <td>...</td>\n",
       "      <td>NaN</td>\n",
       "      <td>NaN</td>\n",
       "      <td>NaN</td>\n",
       "      <td>NaN</td>\n",
       "      <td>Barang yang diperoleh tidak sesuai dengan spes...</td>\n",
       "      <td>NaN</td>\n",
       "      <td>NaN</td>\n",
       "      <td>NaN</td>\n",
       "      <td>NaN</td>\n",
       "      <td>NaN</td>\n",
       "    </tr>\n",
       "    <tr>\n",
       "      <th>2</th>\n",
       "      <td>Wanita</td>\n",
       "      <td>18.0</td>\n",
       "      <td>SMA</td>\n",
       "      <td>Pelajar / Mahasiswa</td>\n",
       "      <td>&lt; Rp 2 juta</td>\n",
       "      <td>Bandung</td>\n",
       "      <td>1500%</td>\n",
       "      <td>Sama saja</td>\n",
       "      <td>NaN</td>\n",
       "      <td>Mobile Banking</td>\n",
       "      <td>...</td>\n",
       "      <td>NaN</td>\n",
       "      <td>Kartu Kredit / Debit Online</td>\n",
       "      <td>NaN</td>\n",
       "      <td>menggunakan fitur Paylater</td>\n",
       "      <td>NaN</td>\n",
       "      <td>NaN</td>\n",
       "      <td>Pembayaran sudah dilakukan; barang tidak tersedia</td>\n",
       "      <td>NaN</td>\n",
       "      <td>Pembayaran telah dilakukan tetapi tidak terdet...</td>\n",
       "      <td>Saldo eMoney/ eWallet berkurang tanpa melakuka...</td>\n",
       "    </tr>\n",
       "    <tr>\n",
       "      <th>3</th>\n",
       "      <td>Wanita</td>\n",
       "      <td>19.0</td>\n",
       "      <td>SMA</td>\n",
       "      <td>Pelajar / Mahasiswa</td>\n",
       "      <td>Rp 2 juta – Rp 5 juta</td>\n",
       "      <td>Depok</td>\n",
       "      <td>800%</td>\n",
       "      <td>Ya</td>\n",
       "      <td>Akses media sosial</td>\n",
       "      <td>Mobile Banking</td>\n",
       "      <td>...</td>\n",
       "      <td>NaN</td>\n",
       "      <td>NaN</td>\n",
       "      <td>NaN</td>\n",
       "      <td>NaN</td>\n",
       "      <td>NaN</td>\n",
       "      <td>NaN</td>\n",
       "      <td>NaN</td>\n",
       "      <td>NaN</td>\n",
       "      <td>NaN</td>\n",
       "      <td>NaN</td>\n",
       "    </tr>\n",
       "    <tr>\n",
       "      <th>4</th>\n",
       "      <td>Wanita</td>\n",
       "      <td>19.0</td>\n",
       "      <td>SMA</td>\n",
       "      <td>Pelajar / Mahasiswa</td>\n",
       "      <td>&lt; Rp 2 juta</td>\n",
       "      <td>Jakarta</td>\n",
       "      <td>NaN</td>\n",
       "      <td>Sama saja</td>\n",
       "      <td>Mengikuti kelas online</td>\n",
       "      <td>Mobile Banking</td>\n",
       "      <td>...</td>\n",
       "      <td>NaN</td>\n",
       "      <td>NaN</td>\n",
       "      <td>NaN</td>\n",
       "      <td>NaN</td>\n",
       "      <td>NaN</td>\n",
       "      <td>NaN</td>\n",
       "      <td>NaN</td>\n",
       "      <td>NaN</td>\n",
       "      <td>NaN</td>\n",
       "      <td>NaN</td>\n",
       "    </tr>\n",
       "  </tbody>\n",
       "</table>\n",
       "<p>5 rows × 150 columns</p>\n",
       "</div>"
      ],
      "text/plain": [
       "  Jenis Kelamin  Usia Pendidikan Terakhir            Pekerjaan  \\\n",
       "0        Wanita  42.0                  S2            Pengusaha   \n",
       "1          Pria  45.0                  D3       Pegawai Negeri   \n",
       "2        Wanita  18.0                 SMA  Pelajar / Mahasiswa   \n",
       "3        Wanita  19.0                 SMA  Pelajar / Mahasiswa   \n",
       "4        Wanita  19.0                 SMA  Pelajar / Mahasiswa   \n",
       "\n",
       "   Penghasilan per Bulan Domisili  \\\n",
       "0           > Rp 10 juta  Bandung   \n",
       "1           > Rp 10 juta    Depok   \n",
       "2            < Rp 2 juta  Bandung   \n",
       "3  Rp 2 juta – Rp 5 juta    Depok   \n",
       "4            < Rp 2 juta  Jakarta   \n",
       "\n",
       "  Durasi Penggunaan Internet per Hari (dalam Jam) Aktivitas Online Meningkat  \\\n",
       "0                                            600%                  Sama saja   \n",
       "1                                            300%                         Ya   \n",
       "2                                           1500%                  Sama saja   \n",
       "3                                            800%                         Ya   \n",
       "4                                             NaN                  Sama saja   \n",
       "\n",
       "  Aktivitas yang Meningkat dalam 3 Bulan Terakhir layanan_aktif_1  ...  \\\n",
       "0                                             NaN  Mobile Banking  ...   \n",
       "1                              Akses media sosial  Mobile Banking  ...   \n",
       "2                                             NaN  Mobile Banking  ...   \n",
       "3                              Akses media sosial  Mobile Banking  ...   \n",
       "4                          Mengikuti kelas online  Mobile Banking  ...   \n",
       "\n",
       "  cara_pembayaran_belanja_online_5 cara_pembayaran_belanja_online_6  \\\n",
       "0                              NaN                              NaN   \n",
       "1                              NaN                              NaN   \n",
       "2                              NaN      Kartu Kredit / Debit Online   \n",
       "3                              NaN                              NaN   \n",
       "4                              NaN                              NaN   \n",
       "\n",
       "  cara_pembayaran_belanja_online_7 cara_pembayaran_belanja_online_8  \\\n",
       "0                              NaN                              NaN   \n",
       "1                              NaN                              NaN   \n",
       "2                              NaN       menggunakan fitur Paylater   \n",
       "3                              NaN                              NaN   \n",
       "4                              NaN                              NaN   \n",
       "\n",
       "                            keluhan_belanja_online_1 keluhan_belanja_online_2  \\\n",
       "0  Barang yang diperoleh tidak sesuai dengan spes...                      NaN   \n",
       "1  Barang yang diperoleh tidak sesuai dengan spes...                      NaN   \n",
       "2                                                NaN                      NaN   \n",
       "3                                                NaN                      NaN   \n",
       "4                                                NaN                      NaN   \n",
       "\n",
       "                            keluhan_belanja_online_3  \\\n",
       "0  Pembayaran sudah dilakukan; barang tidak tersedia   \n",
       "1                                                NaN   \n",
       "2  Pembayaran sudah dilakukan; barang tidak tersedia   \n",
       "3                                                NaN   \n",
       "4                                                NaN   \n",
       "\n",
       "             keluhan_belanja_online_4  \\\n",
       "0  Jumlah barang yang diterima kurang   \n",
       "1                                 NaN   \n",
       "2                                 NaN   \n",
       "3                                 NaN   \n",
       "4                                 NaN   \n",
       "\n",
       "                            keluhan_belanja_online_5  \\\n",
       "0                                                NaN   \n",
       "1                                                NaN   \n",
       "2  Pembayaran telah dilakukan tetapi tidak terdet...   \n",
       "3                                                NaN   \n",
       "4                                                NaN   \n",
       "\n",
       "                            keluhan_belanja_online_6  \n",
       "0                                                NaN  \n",
       "1                                                NaN  \n",
       "2  Saldo eMoney/ eWallet berkurang tanpa melakuka...  \n",
       "3                                                NaN  \n",
       "4                                                NaN  \n",
       "\n",
       "[5 rows x 150 columns]"
      ]
     },
     "execution_count": 91,
     "metadata": {},
     "output_type": "execute_result"
    }
   ],
   "source": [
    "anova = pd.read_excel('xxx.xlsx')\n",
    "anova.head()"
   ]
  },
  {
   "cell_type": "code",
   "execution_count": 92,
   "id": "b6659d74",
   "metadata": {},
   "outputs": [
    {
     "data": {
      "text/html": [
       "<div>\n",
       "<style scoped>\n",
       "    .dataframe tbody tr th:only-of-type {\n",
       "        vertical-align: middle;\n",
       "    }\n",
       "\n",
       "    .dataframe tbody tr th {\n",
       "        vertical-align: top;\n",
       "    }\n",
       "\n",
       "    .dataframe thead th {\n",
       "        text-align: right;\n",
       "    }\n",
       "</style>\n",
       "<table border=\"1\" class=\"dataframe\">\n",
       "  <thead>\n",
       "    <tr style=\"text-align: right;\">\n",
       "      <th></th>\n",
       "      <th>df</th>\n",
       "      <th>sum_sq</th>\n",
       "      <th>mean_sq</th>\n",
       "      <th>F</th>\n",
       "      <th>PR(&gt;F)</th>\n",
       "    </tr>\n",
       "  </thead>\n",
       "  <tbody>\n",
       "    <tr>\n",
       "      <th>C(pembelian)</th>\n",
       "      <td>6.0</td>\n",
       "      <td>2.446493e+05</td>\n",
       "      <td>40774.879801</td>\n",
       "      <td>1.602788</td>\n",
       "      <td>0.146133</td>\n",
       "    </tr>\n",
       "    <tr>\n",
       "      <th>Residual</th>\n",
       "      <td>288.0</td>\n",
       "      <td>7.326713e+06</td>\n",
       "      <td>25439.976327</td>\n",
       "      <td>NaN</td>\n",
       "      <td>NaN</td>\n",
       "    </tr>\n",
       "  </tbody>\n",
       "</table>\n",
       "</div>"
      ],
      "text/plain": [
       "                 df        sum_sq       mean_sq         F    PR(>F)\n",
       "C(pembelian)    6.0  2.446493e+05  40774.879801  1.602788  0.146133\n",
       "Residual      288.0  7.326713e+06  25439.976327       NaN       NaN"
      ]
     },
     "execution_count": 92,
     "metadata": {},
     "output_type": "execute_result"
    }
   ],
   "source": [
    "model = ols('Usia ~ C(pembelian)', data=anova).fit()\n",
    "anova_table = sm.stats.anova_lm(model, typ=1)\n",
    "anova_table"
   ]
  },
  {
   "cell_type": "code",
   "execution_count": 93,
   "id": "d46fa1c8",
   "metadata": {},
   "outputs": [
    {
     "name": "stdout",
     "output_type": "stream",
     "text": [
      "crit Region: f > 3.03\n",
      "Kesimpulan: f diluar crit region, H0 gagal ditolak\n"
     ]
    }
   ],
   "source": [
    "f_alpha = st.f.ppf(0.95, dfn = 2, dfd = 288)\n",
    "print(f'crit Region: f > {f_alpha:.2f}')\n",
    "print('Kesimpulan: f diluar crit region, H0 gagal ditolak')"
   ]
  },
  {
   "cell_type": "code",
   "execution_count": 96,
   "id": "7f44c951",
   "metadata": {},
   "outputs": [
    {
     "data": {
      "text/plain": [
       "0.20312499569205822"
      ]
     },
     "execution_count": 96,
     "metadata": {},
     "output_type": "execute_result"
    }
   ],
   "source": [
    "pvalue = 1 - st.f.cdf(1.602788, 2, 288)\n",
    "pvalue"
   ]
  },
  {
   "cell_type": "markdown",
   "id": "ab3d2299",
   "metadata": {},
   "source": [
    "# NO 30"
   ]
  },
  {
   "cell_type": "code",
   "execution_count": 95,
   "id": "6c070f29",
   "metadata": {},
   "outputs": [
    {
     "ename": "SyntaxError",
     "evalue": "invalid syntax (<ipython-input-95-e7d53bfd8e3d>, line 1)",
     "output_type": "error",
     "traceback": [
      "\u001b[1;36m  File \u001b[1;32m\"<ipython-input-95-e7d53bfd8e3d>\"\u001b[1;36m, line \u001b[1;32m1\u001b[0m\n\u001b[1;33m    1. Dari data yang diolah terdiri dari 50% responden wanita dan 50% pria\u001b[0m\n\u001b[1;37m       ^\u001b[0m\n\u001b[1;31mSyntaxError\u001b[0m\u001b[1;31m:\u001b[0m invalid syntax\n"
     ]
    }
   ],
   "source": [
    "1. Dari data yang diolah terdiri dari 50% responden wanita dan 50% pria\n",
    "2. Responden terbanyak adalah pelajar/mahasiswa sebanyak 144 responden\n",
    "3. Aktivitas online dari 50% responden meningkat dalam 3 bulan terakhir,\n",
    "   sementara itu 40% menyatakan sama saja, dan 10% menyatakan tidak meningkat \n",
    "4. Bank yang paling banyak digunakan yakni BCA dengan frekuensi sebanyak 160\n",
    "   pengguna dan proporsi sebesar 0.394089\n",
    "5. Pengguna paling banyak melakukan transfer antarbank menggunakan mobile banking\n",
    "   dengan frekuensi sebanyak 202 dan proporsi sebesar 0.827869\n",
    "6. Gopay menjadi e-Money paling banyak digunakan sebanyak 230 dengan proporsi 0.265589\n",
    "7. Layanan GoFood menjadi yang terbanyak digunakan oleh responden\n",
    "   untuk melakukan pembelian makanan/minuman secara online sebanyak 138 orang dan proporsi sebesar 0.467797"
   ]
  }
 ],
 "metadata": {
  "kernelspec": {
   "display_name": "Python 3",
   "language": "python",
   "name": "python3"
  },
  "language_info": {
   "codemirror_mode": {
    "name": "ipython",
    "version": 3
   },
   "file_extension": ".py",
   "mimetype": "text/x-python",
   "name": "python",
   "nbconvert_exporter": "python",
   "pygments_lexer": "ipython3",
   "version": "3.9.6 (tags/v3.9.6:db3ff76, Jun 28 2021, 15:26:21) [MSC v.1929 64 bit (AMD64)]"
  },
  "vscode": {
   "interpreter": {
    "hash": "402551202b32eff24fdb83a87a535e76b3552f73b3de945002ac04b28a0d1849"
   }
  }
 },
 "nbformat": 4,
 "nbformat_minor": 5
}
